{
 "cells": [
  {
   "cell_type": "code",
   "execution_count": 1,
   "metadata": {},
   "outputs": [],
   "source": [
    "import numpy as np\n",
    "import pandas as pd\n",
    "import os,sys\n",
    "import cv2\n",
    "import pickle"
   ]
  },
  {
   "cell_type": "code",
   "execution_count": 2,
   "metadata": {},
   "outputs": [],
   "source": [
    "# initialize the list of points for the rectangle bbox,\n",
    "# the temporaray endpoint of the drawing rectangle\n",
    "# the list of all bounding boxes of selected rois\n",
    "# and boolean indicating wether drawing of mouse\n",
    "# is performed or not\n",
    "rect_endpoint_tmp = []\n",
    "rect_bbox = []\n",
    "\n",
    "drawing = False\n",
    "\n",
    "def check_boxes(img_clean,bbox_list):\n",
    "    def draw_all_boxes():\n",
    "        img = img_clean.copy()\n",
    "        \n",
    "        for b in bbox_list:\n",
    "            cv2.rectangle(img, (b[0],b[1]),(b[2],b[3]), color=(0, 255, 0),thickness=1)\n",
    "        cv2.imshow('image', img)\n",
    "            \n",
    "        \n",
    "    # mouse callback function\n",
    "    def draw_rect_roi(event, x, y, flags, param):\n",
    "            # grab references to the global variables\n",
    "            global rect_bbox, rect_endpoint_tmp, drawing\n",
    "    \n",
    "            # if the left mouse button was clicked, record the starting\n",
    "            # (x, y) coordinates and indicate that drawing is being\n",
    "            # performed. set rect_endpoint_tmp empty list.\n",
    "            if event == cv2.EVENT_LBUTTONDOWN:\n",
    "                rect_endpoint_tmp = []\n",
    "                rect_bbox = [(x, y)]\n",
    "                drawing = True\n",
    "    \n",
    "            # check to see if the left mouse button was released\n",
    "            elif event == cv2.EVENT_LBUTTONUP:\n",
    "                # record the ending (x, y) coordinates and indicate that\n",
    "                # drawing operation is finished\n",
    "                rect_bbox.append((x, y))\n",
    "                drawing = False\n",
    "    \n",
    "                # draw a rectangle around the region of interest\n",
    "                p_1, p_2 = rect_bbox\n",
    "                \n",
    "                # for bbox find upper left and bottom right points\n",
    "                p_1x, p_1y = p_1\n",
    "                p_2x, p_2y = p_2\n",
    "    \n",
    "                lx = min(p_1x, p_2x)\n",
    "                ty = min(p_1y, p_2y)\n",
    "                rx = max(p_1x, p_2x)\n",
    "                by = max(p_1y, p_2y)\n",
    "    \n",
    "                # add bbox to list if both points are different\n",
    "                if (lx, ty) != (rx, by):\n",
    "                    if abs(lx-rx)>5:\n",
    "                        if abs(ty-by)>5:\n",
    "                            bbox = [lx, ty, rx, by]\n",
    "                            bbox_list.append(bbox)\n",
    "    \n",
    "            # if mouse is drawing set tmp rectangle endpoint to (x,y)\n",
    "            elif event == cv2.EVENT_MOUSEMOVE and drawing:\n",
    "                rect_endpoint_tmp = [(x, y)]\n",
    "            elif event == cv2.EVENT_LBUTTONDBLCLK:\n",
    "                npbx=np.asarray(bbox_list)\n",
    "                selected_box = ((x>npbx[:,0]) & (y>npbx[:,1]) & (x<npbx[:,2]) & (y<npbx[:,3]))\n",
    "                if np.sum(selected_box)==1:\n",
    "                    bbox_list.remove(npbx[selected_box].tolist()[0])\n",
    "                if np.sum(selected_box)>1:\n",
    "                    potentials = npbx[selected_box]\n",
    "                    areas = (potentials[:,2]-potentials[:,0])*(potentials[:,3]-potentials[:,1])\n",
    "                    bbox_list.remove(potentials[np.argmin(areas)].tolist())\n",
    "                draw_all_boxes()\n",
    "\n",
    "    cv2.namedWindow('image',cv2.WINDOW_GUI_NORMAL )\n",
    "    cv2.resizeWindow('image', 900,900)\n",
    "    cv2.setMouseCallback('image', draw_rect_roi)\n",
    "    draw_all_boxes()\n",
    "    # keep looping until the 'c' key is pressed\n",
    "    stop = False\n",
    "    while True:\n",
    "        # display the image and wait for a keypress\n",
    "        if not drawing:\n",
    "            draw_all_boxes()\n",
    "            #cv2.imshow('image', img)\n",
    "        elif drawing and rect_endpoint_tmp:\n",
    "            rect_cpy = img_clean.copy()\n",
    "            start_point = rect_bbox[0]\n",
    "            end_point_tmp = rect_endpoint_tmp[0]\n",
    "            cv2.rectangle(rect_cpy, start_point, end_point_tmp,(0,255,0),1)\n",
    "            cv2.imshow('image', rect_cpy)\n",
    "    \n",
    "        key = cv2.waitKey(1) #& 0xFF\n",
    "        # if the 'c' key is pressed, break from the loop\n",
    "        if key == ord('c'):\n",
    "            break\n",
    "        if key == ord('q'):\n",
    "            stop=True\n",
    "            break\n",
    "    # close all open windows\n",
    "    cv2.destroyAllWindows()\n",
    "    #cv2.waitKey(1)\n",
    "    return stop"
   ]
  },
  {
   "cell_type": "code",
   "execution_count": 19,
   "metadata": {},
   "outputs": [
    {
     "name": "stdout",
     "output_type": "stream",
     "text": [
      "/home/staff1/ctorney/workspace/deepWildCount/yolo_v3/train/train_images/SWC1058-8.JPG, 19888 of 20000\n"
     ]
    }
   ],
   "source": [
    "with open ('../train_images/annotations-checked.pickle', 'rb') as fp:\n",
    "    all_imgs = pickle.load(fp)\n",
    "\n",
    "from_scratch=False\n",
    "if from_scratch:\n",
    "    new_imgs = []\n",
    "else:\n",
    "    with open ('../train_images/annotations-checked-2.pickle', 'rb') as fp:\n",
    "        new_imgs = pickle.load(fp)\n",
    "\n",
    "for i in range(len(all_imgs)):\n",
    "    if not from_scratch:\n",
    "        if any(d['filename'] == all_imgs[i]['filename'] for d in new_imgs):\n",
    "            continue\n",
    "    img_data = {'object':[]}\n",
    "    img_data['filename'] = all_imgs[i]['filename']\n",
    "    img_data['width'] = all_imgs[i]['width']\n",
    "    img_data['height'] = all_imgs[i]['height']\n",
    "    if len(all_imgs[i]['object'])>0:\n",
    "        print(img_data['filename'] + \", \" + str(i) + ' of ' + str(len(all_imgs)))\n",
    "        boxes=[]\n",
    "        for obj in all_imgs[i]['object']:\n",
    "            boxes.append([obj['xmin'],obj['ymin'],obj['xmax'],obj['ymax']])\n",
    "            \n",
    "        #do box processing\n",
    "        img = cv2.imread(img_data['filename'])\n",
    "        if check_boxes(img,boxes):\n",
    "            break\n",
    "        for b in boxes:\n",
    "            obj = {}\n",
    "            if ((b[2]-b[0])*(b[3]-b[1]))<10:\n",
    "                continue\n",
    "            obj['name'] = 'wildebeest'\n",
    "            obj['xmin'] = int(b[0])\n",
    "            obj['ymin'] = int(b[1])\n",
    "            obj['xmax'] = int(b[2])\n",
    "            obj['ymax'] = int(b[3])\n",
    "            img_data['object'] += [obj]\n",
    "\n",
    "    new_imgs += [img_data]\n",
    "\n",
    "#print(all_imgs)\n",
    "with open('../train_images/annotations-checked-2.pickle', 'wb') as handle:\n",
    "   pickle.dump(new_imgs, handle)"
   ]
  },
  {
   "cell_type": "code",
   "execution_count": null,
   "metadata": {},
   "outputs": [],
   "source": []
  },
  {
   "cell_type": "code",
   "execution_count": null,
   "metadata": {},
   "outputs": [],
   "source": [
    "all_imgs[2]"
   ]
  },
  {
   "cell_type": "code",
   "execution_count": 4,
   "metadata": {},
   "outputs": [
    {
     "data": {
      "text/plain": [
       "'/home/staff1/ctorney/workspace/deepWildCount/yolo_v3/train/train_images/SWC0548-38.JPG'"
      ]
     },
     "execution_count": 4,
     "metadata": {},
     "output_type": "execute_result"
    }
   ],
   "source": [
    "all_imgs[7998]['filename']"
   ]
  },
  {
   "cell_type": "code",
   "execution_count": 10,
   "metadata": {},
   "outputs": [],
   "source": [
    "with open ('../train_images/annotations-checked-2.pickle', 'rb') as fp:\n",
    "        new_imgs = pickle.load(fp)"
   ]
  },
  {
   "cell_type": "code",
   "execution_count": 9,
   "metadata": {},
   "outputs": [
    {
     "name": "stdout",
     "output_type": "stream",
     "text": [
      "/home/staff1/ctorney/workspace/deepWildCount/yolo_v3/train/train_images/SWC0018-35.JPG, 19875 of 20000\n",
      "/home/staff1/ctorney/workspace/deepWildCount/yolo_v3/train/train_images/SWC1058-1.JPG, 19881 of 20000\n",
      "/home/staff1/ctorney/workspace/deepWildCount/yolo_v3/train/train_images/SWC1058-2.JPG, 19882 of 20000\n",
      "/home/staff1/ctorney/workspace/deepWildCount/yolo_v3/train/train_images/SWC1058-3.JPG, 19883 of 20000\n",
      "/home/staff1/ctorney/workspace/deepWildCount/yolo_v3/train/train_images/SWC1058-4.JPG, 19884 of 20000\n",
      "/home/staff1/ctorney/workspace/deepWildCount/yolo_v3/train/train_images/SWC1058-7.JPG, 19887 of 20000\n",
      "/home/staff1/ctorney/workspace/deepWildCount/yolo_v3/train/train_images/SWC1058-8.JPG, 19888 of 20000\n"
     ]
    }
   ],
   "source": [
    "with open ('../train_images/annotations-checked.pickle', 'rb') as fp:\n",
    "    all_imgs = pickle.load(fp)\n",
    "\n",
    "\n",
    "for i in range(19800,19900):\n",
    "    img_data = {'object':[]}\n",
    "    img_data['filename'] = all_imgs[i]['filename']\n",
    "    img_data['width'] = all_imgs[i]['width']\n",
    "    img_data['height'] = all_imgs[i]['height']\n",
    "    if len(all_imgs[i]['object'])>0:\n",
    "        print(img_data['filename'] + \", \" + str(i) + ' of ' + str(len(all_imgs)))\n",
    "        boxes=[]\n",
    "        for obj in all_imgs[i]['object']:\n",
    "            boxes.append([obj['xmin'],obj['ymin'],obj['xmax'],obj['ymax']])\n",
    "            \n",
    "        #do box processing\n",
    "        img = cv2.imread(img_data['filename'])\n",
    "        if check_boxes(img,boxes):\n",
    "            break\n"
   ]
  },
  {
   "cell_type": "code",
   "execution_count": 15,
   "metadata": {},
   "outputs": [],
   "source": [
    "new_imgs.remove(new_imgs[19888])"
   ]
  },
  {
   "cell_type": "code",
   "execution_count": 22,
   "metadata": {},
   "outputs": [
    {
     "data": {
      "text/plain": [
       "{'filename': '/home/staff1/ctorney/workspace/deepWildCount/yolo_v3/train/train_images/SWC1058-8.JPG',\n",
       " 'height': 864,\n",
       " 'object': [{'name': 'wildebeest',\n",
       "   'xmax': 90,\n",
       "   'xmin': 55,\n",
       "   'ymax': 71,\n",
       "   'ymin': 27},\n",
       "  {'name': 'wildebeest', 'xmax': 291, 'xmin': 265, 'ymax': 257, 'ymin': 199},\n",
       "  {'name': 'wildebeest', 'xmax': 793, 'xmin': 769, 'ymax': 255, 'ymin': 210},\n",
       "  {'name': 'wildebeest', 'xmax': 176, 'xmin': 137, 'ymax': 33, 'ymin': 1},\n",
       "  {'name': 'wildebeest', 'xmax': 258, 'xmin': 240, 'ymax': 100, 'ymin': 66}],\n",
       " 'width': 864}"
      ]
     },
     "execution_count": 22,
     "metadata": {},
     "output_type": "execute_result"
    }
   ],
   "source": [
    "new_imgs[-1]"
   ]
  },
  {
   "cell_type": "code",
   "execution_count": 18,
   "metadata": {},
   "outputs": [],
   "source": [
    "with open('../train_images/annotations-checked-2.pickle', 'wb') as handle:\n",
    "   pickle.dump(new_imgs, handle)"
   ]
  },
  {
   "cell_type": "code",
   "execution_count": null,
   "metadata": {},
   "outputs": [],
   "source": []
  },
  {
   "cell_type": "code",
   "execution_count": null,
   "metadata": {},
   "outputs": [],
   "source": []
  }
 ],
 "metadata": {
  "kernelspec": {
   "display_name": "Python 3",
   "language": "python",
   "name": "python3"
  },
  "language_info": {
   "codemirror_mode": {
    "name": "ipython",
    "version": 3
   },
   "file_extension": ".py",
   "mimetype": "text/x-python",
   "name": "python",
   "nbconvert_exporter": "python",
   "pygments_lexer": "ipython3",
   "version": "3.6.3"
  }
 },
 "nbformat": 4,
 "nbformat_minor": 2
}
